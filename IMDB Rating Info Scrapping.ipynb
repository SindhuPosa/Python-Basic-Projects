{
 "cells": [
  {
   "cell_type": "code",
   "execution_count": 1,
   "id": "edb001d1",
   "metadata": {},
   "outputs": [],
   "source": [
    "import requests\n",
    "import pandas as pd\n",
    "from bs4 import BeautifulSoup as bs"
   ]
  },
  {
   "cell_type": "code",
   "execution_count": 42,
   "id": "bdd9fea7",
   "metadata": {},
   "outputs": [],
   "source": [
    "url=\"https://www.imdb.com/chart/top-english-movies/\"\n",
    "page=requests.get(url).content\n",
    "imdb=bs(page,'html.parser')\n",
    "#print(imdb.prettify())"
   ]
  },
  {
   "cell_type": "code",
   "execution_count": 43,
   "id": "58214f2b",
   "metadata": {},
   "outputs": [],
   "source": [
    "title=imdb.findAll('td',class_='titleColumn')\n",
    "links=[]\n",
    "for i in title:\n",
    "    l1=i.a\n",
    "    l2=l1.get('href')\n",
    "    l3=\"https://www.imdb.com\"+l2+\"?pf_rd_m=A2FGELUUNOQJNL&pf_rd_p=82625082-5d44-4ca0-b1f0-5cb183544bf4&pf_rd_r=42FJHHXJH6T34ABA8QYQ&pf_rd_s=center-2&pf_rd_t=15506&pf_rd_i=topenglish&ref_=chttentp_tt_1\"\n",
    "    links.append(l3)"
   ]
  },
  {
   "cell_type": "code",
   "execution_count": 44,
   "id": "38725467",
   "metadata": {},
   "outputs": [],
   "source": [
    "ratings=imdb.find_all('strong')\n",
    "rating=[]\n",
    "for i in ratings:\n",
    "    j1=i.text.strip()\n",
    "    rating.append(j1)"
   ]
  },
  {
   "cell_type": "code",
   "execution_count": 45,
   "id": "16cfd617",
   "metadata": {},
   "outputs": [],
   "source": [
    "images=imdb.find_all('img')\n",
    "movie_image=[]\n",
    "for i in images:\n",
    "    j2=i.get('src')\n",
    "    movie_image.append(j2)"
   ]
  },
  {
   "cell_type": "code",
   "execution_count": 46,
   "id": "d1fde982",
   "metadata": {},
   "outputs": [],
   "source": [
    "# Getting title\n",
    "movie_title=[]\n",
    "for tit in title:\n",
    "    t=tit.a.text\n",
    "    movie_title.append(t)"
   ]
  },
  {
   "cell_type": "code",
   "execution_count": 47,
   "id": "0e3302e4",
   "metadata": {},
   "outputs": [],
   "source": [
    " # Getting year\n",
    "movie_year=[]\n",
    "for y in title:\n",
    "    year=y.span.text\n",
    "    movie_year.append(year[1:5])"
   ]
  },
  {
   "cell_type": "code",
   "execution_count": 48,
   "id": "523b39ea",
   "metadata": {},
   "outputs": [],
   "source": [
    "data = {\n",
    "    'Movie Name':movie_title,\n",
    "    'Rating':rating,\n",
    "    'Movie Year':movie_year,\n",
    "    'Links':links,\n",
    "    'Movie':movie_image\n",
    "}"
   ]
  },
  {
   "cell_type": "code",
   "execution_count": 49,
   "id": "2685191d",
   "metadata": {},
   "outputs": [],
   "source": [
    "df = pd.DataFrame(data)"
   ]
  },
  {
   "cell_type": "code",
   "execution_count": 50,
   "id": "90effd16",
   "metadata": {},
   "outputs": [
    {
     "data": {
      "text/html": [
       "<div>\n",
       "<style scoped>\n",
       "    .dataframe tbody tr th:only-of-type {\n",
       "        vertical-align: middle;\n",
       "    }\n",
       "\n",
       "    .dataframe tbody tr th {\n",
       "        vertical-align: top;\n",
       "    }\n",
       "\n",
       "    .dataframe thead th {\n",
       "        text-align: right;\n",
       "    }\n",
       "</style>\n",
       "<table border=\"1\" class=\"dataframe\">\n",
       "  <thead>\n",
       "    <tr style=\"text-align: right;\">\n",
       "      <th></th>\n",
       "      <th>Movie Name</th>\n",
       "      <th>Rating</th>\n",
       "      <th>Movie Year</th>\n",
       "      <th>Links</th>\n",
       "      <th>Movie</th>\n",
       "    </tr>\n",
       "  </thead>\n",
       "  <tbody>\n",
       "    <tr>\n",
       "      <th>0</th>\n",
       "      <td>The Shawshank Redemption</td>\n",
       "      <td>9.3</td>\n",
       "      <td>1994</td>\n",
       "      <td>https://www.imdb.com/title/tt0111161/?pf_rd_m=...</td>\n",
       "      <td>https://m.media-amazon.com/images/M/MV5BMDFkYT...</td>\n",
       "    </tr>\n",
       "    <tr>\n",
       "      <th>1</th>\n",
       "      <td>The Godfather</td>\n",
       "      <td>9.2</td>\n",
       "      <td>1972</td>\n",
       "      <td>https://www.imdb.com/title/tt0068646/?pf_rd_m=...</td>\n",
       "      <td>https://m.media-amazon.com/images/M/MV5BM2MyNj...</td>\n",
       "    </tr>\n",
       "    <tr>\n",
       "      <th>2</th>\n",
       "      <td>The Dark Knight</td>\n",
       "      <td>9.0</td>\n",
       "      <td>2008</td>\n",
       "      <td>https://www.imdb.com/title/tt0468569/?pf_rd_m=...</td>\n",
       "      <td>https://m.media-amazon.com/images/M/MV5BMTMxNT...</td>\n",
       "    </tr>\n",
       "    <tr>\n",
       "      <th>3</th>\n",
       "      <td>The Godfather Part II</td>\n",
       "      <td>9.0</td>\n",
       "      <td>1974</td>\n",
       "      <td>https://www.imdb.com/title/tt0071562/?pf_rd_m=...</td>\n",
       "      <td>https://m.media-amazon.com/images/M/MV5BMWMwMG...</td>\n",
       "    </tr>\n",
       "    <tr>\n",
       "      <th>4</th>\n",
       "      <td>12 Angry Men</td>\n",
       "      <td>9.0</td>\n",
       "      <td>1957</td>\n",
       "      <td>https://www.imdb.com/title/tt0050083/?pf_rd_m=...</td>\n",
       "      <td>https://m.media-amazon.com/images/M/MV5BMWU4N2...</td>\n",
       "    </tr>\n",
       "  </tbody>\n",
       "</table>\n",
       "</div>"
      ],
      "text/plain": [
       "                 Movie Name Rating Movie Year  \\\n",
       "0  The Shawshank Redemption    9.3       1994   \n",
       "1             The Godfather    9.2       1972   \n",
       "2           The Dark Knight    9.0       2008   \n",
       "3     The Godfather Part II    9.0       1974   \n",
       "4              12 Angry Men    9.0       1957   \n",
       "\n",
       "                                               Links  \\\n",
       "0  https://www.imdb.com/title/tt0111161/?pf_rd_m=...   \n",
       "1  https://www.imdb.com/title/tt0068646/?pf_rd_m=...   \n",
       "2  https://www.imdb.com/title/tt0468569/?pf_rd_m=...   \n",
       "3  https://www.imdb.com/title/tt0071562/?pf_rd_m=...   \n",
       "4  https://www.imdb.com/title/tt0050083/?pf_rd_m=...   \n",
       "\n",
       "                                               Movie  \n",
       "0  https://m.media-amazon.com/images/M/MV5BMDFkYT...  \n",
       "1  https://m.media-amazon.com/images/M/MV5BM2MyNj...  \n",
       "2  https://m.media-amazon.com/images/M/MV5BMTMxNT...  \n",
       "3  https://m.media-amazon.com/images/M/MV5BMWMwMG...  \n",
       "4  https://m.media-amazon.com/images/M/MV5BMWU4N2...  "
      ]
     },
     "execution_count": 50,
     "metadata": {},
     "output_type": "execute_result"
    }
   ],
   "source": [
    "df.head()"
   ]
  },
  {
   "cell_type": "code",
   "execution_count": 51,
   "id": "bcb460d9",
   "metadata": {},
   "outputs": [],
   "source": [
    "df.to_csv('IMDB Movies.csv',sep='\\n',index=False,header=False)"
   ]
  },
  {
   "cell_type": "code",
   "execution_count": 52,
   "id": "ec809b6b",
   "metadata": {},
   "outputs": [],
   "source": [
    "df.to_json('IMDB Movies.json')"
   ]
  }
 ],
 "metadata": {
  "kernelspec": {
   "display_name": "Python 3 (ipykernel)",
   "language": "python",
   "name": "python3"
  },
  "language_info": {
   "codemirror_mode": {
    "name": "ipython",
    "version": 3
   },
   "file_extension": ".py",
   "mimetype": "text/x-python",
   "name": "python",
   "nbconvert_exporter": "python",
   "pygments_lexer": "ipython3",
   "version": "3.9.12"
  }
 },
 "nbformat": 4,
 "nbformat_minor": 5
}
