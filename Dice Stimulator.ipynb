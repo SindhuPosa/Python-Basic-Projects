{
 "cells": [
  {
   "cell_type": "code",
   "execution_count": 3,
   "id": "3409d8fb",
   "metadata": {},
   "outputs": [
    {
     "name": "stdout",
     "output_type": "stream",
     "text": [
      "This is a dice stimulator\n",
      "----------\n",
      "| *    * |\n",
      "|        |\n",
      "| *    * |\n",
      "----------\n",
      "Press y to roll again: y\n",
      "----------\n",
      "|        |\n",
      "| *    * |\n",
      "|        |\n",
      "----------\n",
      "Press y to roll again: y\n",
      "----------\n",
      "| *    * |\n",
      "| *    * |\n",
      "| *    * |\n",
      "----------\n",
      "Press y to roll again: n\n"
     ]
    }
   ],
   "source": [
    "import random\n",
    "print(\"This is a dice stimulator\")\n",
    "x = \"y\"\n",
    "\n",
    "while x == \"y\":\n",
    "    number = random.randint(1,6)\n",
    "\n",
    "    if number == 1:\n",
    "        print(\"----------\")\n",
    "        print(\"|        |\")\n",
    "        print(\"|    *   |\")\n",
    "        print(\"|        |\")\n",
    "        print(\"----------\")\n",
    "    if number == 2:\n",
    "        print(\"----------\")\n",
    "        print(\"|        |\")\n",
    "        print(\"| *    * |\")\n",
    "        print(\"|        |\")\n",
    "        print(\"----------\")\n",
    "    if number == 3:\n",
    "        print(\"----------\")\n",
    "        print(\"|    *   |\")\n",
    "        print(\"|    *   |\")\n",
    "        print(\"|    *   |\")\n",
    "        print(\"----------\")\n",
    "    if number == 4:\n",
    "        print(\"----------\")\n",
    "        print(\"| *    * |\")\n",
    "        print(\"|        |\")\n",
    "        print(\"| *    * |\")\n",
    "        print(\"----------\")\n",
    "    if number == 5:\n",
    "        print(\"----------\")\n",
    "        print(\"| *    * |\")\n",
    "        print(\"|    *   |\")\n",
    "        print(\"| *    * |\")\n",
    "        print(\"----------\")\n",
    "    if number == 6:\n",
    "        print(\"----------\")\n",
    "        print(\"| *    * |\")\n",
    "        print(\"| *    * |\")\n",
    "        print(\"| *    * |\")\n",
    "        print(\"----------\")\n",
    "    x = input(\"Press y to roll again: \")\n",
    "    \n"
   ]
  }
 ],
 "metadata": {
  "kernelspec": {
   "display_name": "Python 3 (ipykernel)",
   "language": "python",
   "name": "python3"
  },
  "language_info": {
   "codemirror_mode": {
    "name": "ipython",
    "version": 3
   },
   "file_extension": ".py",
   "mimetype": "text/x-python",
   "name": "python",
   "nbconvert_exporter": "python",
   "pygments_lexer": "ipython3",
   "version": "3.9.12"
  }
 },
 "nbformat": 4,
 "nbformat_minor": 5
}
